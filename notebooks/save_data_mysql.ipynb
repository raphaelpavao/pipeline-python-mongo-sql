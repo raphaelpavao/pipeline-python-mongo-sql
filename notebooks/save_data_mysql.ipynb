{
 "cells": [
  {
   "cell_type": "markdown",
   "metadata": {
    "id": "48lvfFLHAaMS"
   },
   "source": [
    "## Configurando o MySQL com Python"
   ]
  },
  {
   "cell_type": "markdown",
   "metadata": {
    "id": "E_Rtdd62AaMU"
   },
   "source": [
    "Neste momento, vamos configurar a integração entre o MySQL e Python. Isso nos permitirá executar consultas, inserções e outras operações no banco de dados MySQL usando o Python como nossa linguagem de programação principal."
   ]
  },
  {
   "cell_type": "code",
   "execution_count": null,
   "metadata": {
    "id": "oSmszBiKAaMU"
   },
   "outputs": [
    {
     "name": "stdout",
     "output_type": "stream",
     "text": [
      "root\n",
      "mariadb@2024\n",
      "<mysql.connector.connection_cext.CMySQLConnection object at 0x7f052f7c7190>\n"
     ]
    }
   ],
   "source": [
    "import mysql.connector\n",
    "from dotenv import load_dotenv\n",
    "import os\n",
    "\n",
    "# Carrega as variáveis do arquivo .env\n",
    "load_dotenv()\n",
    "\n",
    "# Acessa as variáveis de ambiente mysql_username\n",
    "username = os.getenv('mysql_username')\n",
    "password = os.getenv('mysql_password')\n",
    "\n",
    "cnx = mysql.connector.connect(\n",
    "    host = \"159.89.183.84\",\n",
    "    user = username,\n",
    "    password = password\n",
    ")\n",
    "print(cnx)\n",
    "\n",
    "\n",
    "\n"
   ]
  },
  {
   "cell_type": "markdown",
   "metadata": {
    "id": "jprge52bAaMV"
   },
   "source": [
    "Criaremos um cursor, que é um objeto utilizado para executar instruções SQL no contexto do Python. Essse cursor nos permitirá enviar consultas e comandos SQL para o banco de dados MySQL por meio da conexão estabelecida e obter os resultados de volta para serem processados em nosso código Python"
   ]
  },
  {
   "cell_type": "code",
   "execution_count": 10,
   "metadata": {
    "id": "_wxVOv0fAaMV"
   },
   "outputs": [],
   "source": [
    "cursor = cnx.cursor()"
   ]
  },
  {
   "cell_type": "markdown",
   "metadata": {
    "id": "yQCWj8OiAaMW"
   },
   "source": [
    "## Criando uma base de dados"
   ]
  },
  {
   "cell_type": "markdown",
   "metadata": {
    "id": "SuVcZJ3zAaMW"
   },
   "source": [
    "O método `execute()` é usado para compilar uma instrução SQL"
   ]
  },
  {
   "cell_type": "code",
   "execution_count": null,
   "metadata": {
    "id": "wt5l_h8hAaMW"
   },
   "outputs": [],
   "source": []
  },
  {
   "cell_type": "code",
   "execution_count": null,
   "metadata": {
    "id": "Ofbqx6eQAaMW"
   },
   "outputs": [],
   "source": []
  },
  {
   "cell_type": "markdown",
   "metadata": {
    "id": "cNpQyBpzAaMW"
   },
   "source": [
    "## Criando uma tabela"
   ]
  },
  {
   "cell_type": "markdown",
   "metadata": {
    "id": "Z-fB6LrNAaMW"
   },
   "source": [
    "Antes de criar nossa tabela, vamos revisar as colunas necessárias que precisaremos incluir nela. Essa etapa é importante para garantir que nossa tabela seja projetada corretamente, atendendo aos requisitos de armazenamento e organização dos dados."
   ]
  },
  {
   "cell_type": "code",
   "execution_count": null,
   "metadata": {
    "id": "EDMnNl3UAaMX"
   },
   "outputs": [],
   "source": []
  },
  {
   "cell_type": "code",
   "execution_count": null,
   "metadata": {
    "id": "AOgI2-yAAaMX"
   },
   "outputs": [],
   "source": []
  },
  {
   "cell_type": "code",
   "execution_count": null,
   "metadata": {
    "id": "IjXdnduAAaMX"
   },
   "outputs": [],
   "source": []
  },
  {
   "cell_type": "code",
   "execution_count": null,
   "metadata": {
    "id": "mEL2pt5eAaMX"
   },
   "outputs": [],
   "source": []
  },
  {
   "cell_type": "markdown",
   "metadata": {
    "id": "h0QI3ib6AaMX"
   },
   "source": [
    "**Selecionando a base de dados para verificar a tabela criada**"
   ]
  },
  {
   "cell_type": "code",
   "execution_count": null,
   "metadata": {
    "id": "4kQPx8HKAaMX"
   },
   "outputs": [],
   "source": []
  },
  {
   "cell_type": "markdown",
   "metadata": {
    "id": "-vttBXAFAaMX"
   },
   "source": [
    "## Inserindo os dados do csv na tabela"
   ]
  },
  {
   "cell_type": "markdown",
   "metadata": {
    "id": "T1_WbYiCAaMY"
   },
   "source": [
    "Para inserir os dados na tabela do MySQL, é necessário percorrer cada linha do DataFrame e transformá-las em tuplas. Essa abordagem permite que mapeemos os dados do DataFrame para as colunas correspondentes da tabela do MySQL de forma eficiente e precisa."
   ]
  },
  {
   "cell_type": "code",
   "execution_count": null,
   "metadata": {
    "id": "vpub4UUaAaMY"
   },
   "outputs": [],
   "source": []
  },
  {
   "cell_type": "code",
   "execution_count": null,
   "metadata": {
    "id": "pXiEzr3xAaMY"
   },
   "outputs": [],
   "source": []
  },
  {
   "cell_type": "code",
   "execution_count": null,
   "metadata": {
    "id": "bmiJewjZAaMY"
   },
   "outputs": [],
   "source": []
  },
  {
   "cell_type": "code",
   "execution_count": null,
   "metadata": {
    "id": "mtCAC3LRAaMY"
   },
   "outputs": [],
   "source": []
  },
  {
   "cell_type": "markdown",
   "metadata": {
    "id": "0uCRoygcAaMY"
   },
   "source": [
    "## Visualizando os dados inseridos"
   ]
  },
  {
   "cell_type": "code",
   "execution_count": null,
   "metadata": {
    "id": "lQYy48pQAaMY"
   },
   "outputs": [],
   "source": []
  },
  {
   "cell_type": "code",
   "execution_count": null,
   "metadata": {
    "id": "P3J6K1ZyAaMZ"
   },
   "outputs": [],
   "source": []
  },
  {
   "cell_type": "code",
   "execution_count": null,
   "metadata": {
    "id": "pl0Abrg1AaMZ"
   },
   "outputs": [],
   "source": []
  }
 ],
 "metadata": {
  "colab": {
   "provenance": []
  },
  "kernelspec": {
   "display_name": "venv",
   "language": "python",
   "name": "python3"
  },
  "language_info": {
   "codemirror_mode": {
    "name": "ipython",
    "version": 3
   },
   "file_extension": ".py",
   "mimetype": "text/x-python",
   "name": "python",
   "nbconvert_exporter": "python",
   "pygments_lexer": "ipython3",
   "version": "3.10.12"
  },
  "orig_nbformat": 4
 },
 "nbformat": 4,
 "nbformat_minor": 0
}
